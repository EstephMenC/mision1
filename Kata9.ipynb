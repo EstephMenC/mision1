{
 "cells": [
  {
   "cell_type": "markdown",
   "metadata": {},
   "source": [
    "# Ejercicio 1"
   ]
  },
  {
   "cell_type": "code",
   "execution_count": 41,
   "metadata": {},
   "outputs": [],
   "source": [
    "#funcion para promedio\n",
    "def tanques(tanque1, tanque2, tanque3):\n",
    "    Total = (tanque1 + tanque2 + tanque3) / 3\n",
    "    return f'Promdeio: {Total}, Tanque 1: {tanque1}, Tanque 2: {tanque2}, Tanque 3: {tanque3}'"
   ]
  },
  {
   "cell_type": "code",
   "execution_count": 42,
   "metadata": {},
   "outputs": [
    {
     "data": {
      "text/plain": [
       "'Promdeio: 67.33333333333333, Tanque 1: 48, Tanque 2: 56, Tanque 3: 98'"
      ]
     },
     "execution_count": 42,
     "metadata": {},
     "output_type": "execute_result"
    }
   ],
   "source": [
    "tanques (48,56,98)"
   ]
  },
  {
   "cell_type": "code",
   "execution_count": 43,
   "metadata": {},
   "outputs": [],
   "source": [
    "def promedio(valores):\n",
    "    nuevo_total = sum(valores)\n",
    "    numero_tanques = len(valores)\n",
    "    return nuevo_total/ numero_tanques\n"
   ]
  },
  {
   "cell_type": "code",
   "execution_count": 44,
   "metadata": {},
   "outputs": [
    {
     "data": {
      "text/plain": [
       "67.66666666666667"
      ]
     },
     "execution_count": 44,
     "metadata": {},
     "output_type": "execute_result"
    }
   ],
   "source": [
    "promedio ([48,56,98,72,90,42])"
   ]
  },
  {
   "cell_type": "code",
   "execution_count": 45,
   "metadata": {},
   "outputs": [],
   "source": [
    "def actualizar (tanque1, tanque2, tanque3):\n",
    "    return f'Promdeio: {promedio ([tanque1, tanque2, tanque3])}, Tanque 1: {tanque1}, Tanque 2: {tanque2}, Tanque 3: {tanque3}'\n"
   ]
  },
  {
   "cell_type": "code",
   "execution_count": 40,
   "metadata": {},
   "outputs": [
    {
     "data": {
      "text/plain": [
       "'Promdeio: 46.666666666666664, Tanque 1: 45, Tanque 2: 63, Tanque 3: 32'"
      ]
     },
     "execution_count": 40,
     "metadata": {},
     "output_type": "execute_result"
    }
   ],
   "source": [
    "actualizar(45,63,32)"
   ]
  },
  {
   "cell_type": "markdown",
   "metadata": {},
   "source": [
    "## Ejercicio 2"
   ]
  },
  {
   "cell_type": "code",
   "execution_count": 81,
   "metadata": {},
   "outputs": [],
   "source": [
    "#Función especifica\n",
    "def mision(prelanzamiento, vuelo, destino, tanque_ext, tanque_int): \n",
    "    \n",
    "    return f'Tiempo de espera: {prelanzamiento}, Tiempo de vuelo: {vuelo} minutos, destino: {destino} minutos, Tanque externo: {tanque_ext}, Tanque ineterno: {tanque_int}'"
   ]
  },
  {
   "cell_type": "code",
   "execution_count": 82,
   "metadata": {},
   "outputs": [
    {
     "data": {
      "text/plain": [
       "'Tiempo de espera: 2, Tiempo de vuelo: 3 minutos, destino: marte minutos, Tanque externo: 5000, Tanque ineterno: 5000'"
      ]
     },
     "execution_count": 82,
     "metadata": {},
     "output_type": "execute_result"
    }
   ],
   "source": [
    "mision(2, 3, 'marte', 5000, 5000)"
   ]
  },
  {
   "cell_type": "code",
   "execution_count": 100,
   "metadata": {},
   "outputs": [],
   "source": [
    "#Función con un informe preciso de la misión. \n",
    "# Considera hora de prelanzamiento, tiempo de vuelo, destino, tanque externo\n",
    "def cohete (destino,*tiempo, **combustibles):\n",
    "    Destino = destino\n",
    "    Tiempo_total = sum(tiempo)\n",
    "    Combustible_total = sum(combustibles.values())\n",
    "    return f'Tiempo de vuelo: {Tiempo_total} minutos, Destino: {Destino}, Combustible total: {Combustible_total} galones '"
   ]
  },
  {
   "cell_type": "code",
   "execution_count": 101,
   "metadata": {},
   "outputs": [
    {
     "data": {
      "text/plain": [
       "'Tiempo de vuelo: 83 minutos, Destino: Marte, Combustible total: 120 galones '"
      ]
     },
     "execution_count": 101,
     "metadata": {},
     "output_type": "execute_result"
    }
   ],
   "source": [
    "cohete (\"Marte\", 9, 74,tank1= 87, tank2=33)"
   ]
  },
  {
   "cell_type": "code",
   "execution_count": 98,
   "metadata": {},
   "outputs": [],
   "source": [
    "def cohete (destino,*tiempo, **combustibles):\n",
    "    Destino = destino\n",
    "    Tiempo_total = sum(tiempo)\n",
    "    Combustible_total = sum(combustibles.values())\n",
    "    for title, tank in combustibles.items():\n",
    "        print(f'Tiempo de vuelo: {Tiempo_total} minutos, Destino: {Destino}, Total de combustible: {Combustible_total} galones, Tanque: {title}: {tank}')\n",
    "    #return f'Tiempo de vuelo: {Tiempo_total} minutos, Destino: {Destino}, Total de combustible: {Combustible_total} '"
   ]
  },
  {
   "cell_type": "code",
   "execution_count": 99,
   "metadata": {},
   "outputs": [
    {
     "name": "stdout",
     "output_type": "stream",
     "text": [
      "Tiempo de vuelo: 83 minutos, Destino: Marte, Total de combustible: 120 galones, Tanque: tank1: 87\n",
      "Tiempo de vuelo: 83 minutos, Destino: Marte, Total de combustible: 120 galones, Tanque: tank2: 33\n"
     ]
    }
   ],
   "source": [
    "cohete (\"Marte\", 9, 74,tank1= 87, tank2=33)"
   ]
  }
 ],
 "metadata": {
  "interpreter": {
   "hash": "aee8b7b246df8f9039afb4144a1f6fd8d2ca17a180786b69acc140d282b71a49"
  },
  "kernelspec": {
   "display_name": "Python 3.10.2 64-bit",
   "language": "python",
   "name": "python3"
  },
  "language_info": {
   "codemirror_mode": {
    "name": "ipython",
    "version": 3
   },
   "file_extension": ".py",
   "mimetype": "text/x-python",
   "name": "python",
   "nbconvert_exporter": "python",
   "pygments_lexer": "ipython3",
   "version": "3.10.2"
  },
  "orig_nbformat": 4
 },
 "nbformat": 4,
 "nbformat_minor": 2
}
