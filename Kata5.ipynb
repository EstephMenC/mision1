{
 "cells": [
  {
   "cell_type": "code",
   "execution_count": 3,
   "metadata": {},
   "outputs": [],
   "source": [
    "# variables de distancia Tierra y Júpiter\n",
    "T = 149597870\n",
    "J = 778547200"
   ]
  },
  {
   "cell_type": "code",
   "execution_count": 4,
   "metadata": {},
   "outputs": [
    {
     "name": "stdout",
     "output_type": "stream",
     "text": [
      "628949330\n"
     ]
    }
   ],
   "source": [
    "#Distancia entre planetas\n",
    "Distancia = J - T\n",
    "print (Distancia)"
   ]
  },
  {
   "cell_type": "code",
   "execution_count": 7,
   "metadata": {},
   "outputs": [
    {
     "data": {
      "text/plain": [
       "390577534"
      ]
     },
     "execution_count": 7,
     "metadata": {},
     "output_type": "execute_result"
    }
   ],
   "source": [
    "#millas\n",
    "convercion = Distancia * 0.621\n",
    "millas = round(convercion)\n",
    "millas"
   ]
  },
  {
   "cell_type": "markdown",
   "metadata": {},
   "source": [
    "## Ejercicio 2"
   ]
  },
  {
   "cell_type": "code",
   "execution_count": 14,
   "metadata": {},
   "outputs": [
    {
     "name": "stdout",
     "output_type": "stream",
     "text": [
      "distancia planetas\n",
      "4267200000km\n",
      "2649931200.0millas\n"
     ]
    }
   ],
   "source": [
    "#distancia del sol para dos planetas y distancia entre ellos\n",
    "\n",
    "print (\"distancia planetas\")\n",
    "planeta1 = input(\"primer planeta\")\n",
    "planeta2 = input(\"segundo planeta\")\n",
    "distancia = (abs(int(planeta1)-int(planeta2)))\n",
    "print (str(distancia) + \"km\")\n",
    "millas =(distancia * 0.621)\n",
    "print (str (millas) + \"millas\")\n"
   ]
  }
 ],
 "metadata": {
  "interpreter": {
   "hash": "aee8b7b246df8f9039afb4144a1f6fd8d2ca17a180786b69acc140d282b71a49"
  },
  "kernelspec": {
   "display_name": "Python 3.10.2 64-bit",
   "language": "python",
   "name": "python3"
  },
  "language_info": {
   "codemirror_mode": {
    "name": "ipython",
    "version": 3
   },
   "file_extension": ".py",
   "mimetype": "text/x-python",
   "name": "python",
   "nbconvert_exporter": "python",
   "pygments_lexer": "ipython3",
   "version": "3.10.2"
  },
  "orig_nbformat": 4
 },
 "nbformat": 4,
 "nbformat_minor": 2
}
