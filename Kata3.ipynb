{
 "cells": [
  {
   "cell_type": "markdown",
   "metadata": {},
   "source": [
    "## Problema 1"
   ]
  },
  {
   "cell_type": "code",
   "execution_count": 1,
   "metadata": {},
   "outputs": [
    {
     "name": "stdout",
     "output_type": "stream",
     "text": [
      "49\n",
      "ADVERTENCIA\n"
     ]
    }
   ],
   "source": [
    "# Advertencia si un asteroide se acerca a la Tierra demasiado rápido\n",
    "a = 49 # km/s\n",
    "if a >= 26:\n",
    "    print (a)\n",
    "    print (\"ADVERTENCIA\")\n",
    "else:\n",
    "    print (\"Sin problemas\") \n",
    "         "
   ]
  },
  {
   "cell_type": "markdown",
   "metadata": {},
   "source": [
    "## Problema 2"
   ]
  },
  {
   "cell_type": "code",
   "execution_count": 2,
   "metadata": {},
   "outputs": [
    {
     "name": "stdout",
     "output_type": "stream",
     "text": [
      "PRECUACIÓN\n"
     ]
    }
   ],
   "source": [
    "# A una velocidad mayor o igual a 20 km/s, a veces produce un rayo de luz que se puede ver desde la Tierra.\n",
    "a = 21 #km/s\n",
    "if a > 20:\n",
    "    print (\"PRECUACIÓN\")\n",
    "elif a == 20:\n",
    "    print (\"Busca un rayo de luz en el cielo\")\n",
    "else:\n",
    "    print (\"Sin problemas\") \n"
   ]
  },
  {
   "cell_type": "markdown",
   "metadata": {},
   "source": [
    "## Problema 3"
   ]
  },
  {
   "cell_type": "code",
   "execution_count": 41,
   "metadata": {},
   "outputs": [
    {
     "name": "stdout",
     "output_type": "stream",
     "text": [
      "sin problemas\n"
     ]
    }
   ],
   "source": [
    "t = 12 # m\n",
    "v = 2 # km/s\n",
    "if t > 25 and v > 25:\n",
    "    print (\"PELIGRO\")  \n",
    "elif v >= 20:\n",
    "    print (\"Busca un rayo de luz en el cielo\")\n",
    "elif t < 25:\n",
    "    print (\"sin problemas\")\n",
    "else:\n",
    "    print (\"sin problemas\")  "
   ]
  }
 ],
 "metadata": {
  "interpreter": {
   "hash": "aee8b7b246df8f9039afb4144a1f6fd8d2ca17a180786b69acc140d282b71a49"
  },
  "kernelspec": {
   "display_name": "Python 3.10.2 64-bit",
   "language": "python",
   "name": "python3"
  },
  "language_info": {
   "codemirror_mode": {
    "name": "ipython",
    "version": 3
   },
   "file_extension": ".py",
   "mimetype": "text/x-python",
   "name": "python",
   "nbconvert_exporter": "python",
   "pygments_lexer": "ipython3",
   "version": "3.10.2"
  },
  "orig_nbformat": 4
 },
 "nbformat": 4,
 "nbformat_minor": 2
}
