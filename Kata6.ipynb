{
 "cells": [
  {
   "cell_type": "markdown",
   "metadata": {},
   "source": [
    "## Ejercicio 1"
   ]
  },
  {
   "cell_type": "code",
   "execution_count": 12,
   "metadata": {},
   "outputs": [
    {
     "name": "stdout",
     "output_type": "stream",
     "text": [
      "Número total de planetas: 8\n"
     ]
    }
   ],
   "source": [
    "# lista planetas\n",
    "planets = ['Mercurio', 'Venus', 'Tierra', 'Marte', 'Jupiter', 'Saturno', 'Urano', 'Neptuno']\n",
    "Total_planetas = len(planets)\n",
    "print('Número total de planetas:', Total_planetas)"
   ]
  },
  {
   "cell_type": "code",
   "execution_count": 13,
   "metadata": {},
   "outputs": [
    {
     "name": "stdout",
     "output_type": "stream",
     "text": [
      "Total de planetas: 9\n",
      "El último planeta es: Plutón\n"
     ]
    }
   ],
   "source": [
    "# Agrega Plutón a la lista. Mostrar el número de planetas y el último planeta de la lista\n",
    "planets.append('Plutón')\n",
    "Total_planetas = len(planets)\n",
    "print('Total de planetas:', Total_planetas)\n",
    "print ('El último planeta es:', planets [-1])"
   ]
  },
  {
   "cell_type": "markdown",
   "metadata": {},
   "source": [
    "## Ejercicio 2"
   ]
  },
  {
   "cell_type": "code",
   "execution_count": 22,
   "metadata": {},
   "outputs": [],
   "source": [
    "# lista planetas\n",
    "planets = ['Mercurio', 'Venus', 'Tierra', 'Marte', 'Jupiter', 'Saturno', 'Urano', 'Neptuno']"
   ]
  },
  {
   "cell_type": "code",
   "execution_count": 27,
   "metadata": {},
   "outputs": [
    {
     "name": "stdout",
     "output_type": "stream",
     "text": [
      "Tu planeta es:(Empieza con mayúscula)\n",
      "planetas cercanos ['Mercurio', 'Venus', 'Tierra', 'Marte']\n",
      "planetas más lejos ['Saturno', 'Urano', 'Neptuno']\n"
     ]
    }
   ],
   "source": [
    "# Solicitar nombre del planeta\n",
    "print('Tu planeta es:(Empieza con mayúscula)')\n",
    "el_planeta = input(\"el planeta\")\n",
    "busca_planeta = planets.index (el_planeta)\n",
    "planetas_cercanos = planets[0:busca_planeta]\n",
    "print('planetas cercanos',planetas_cercanos)\n",
    "planetas_lejos = planets.index (el_planeta)\n",
    "otros = planets[planetas_lejos +1:]\n",
    "print('planetas más lejos',otros) "
   ]
  }
 ],
 "metadata": {
  "interpreter": {
   "hash": "aee8b7b246df8f9039afb4144a1f6fd8d2ca17a180786b69acc140d282b71a49"
  },
  "kernelspec": {
   "display_name": "Python 3.10.2 64-bit",
   "language": "python",
   "name": "python3"
  },
  "language_info": {
   "codemirror_mode": {
    "name": "ipython",
    "version": 3
   },
   "file_extension": ".py",
   "mimetype": "text/x-python",
   "name": "python",
   "nbconvert_exporter": "python",
   "pygments_lexer": "ipython3",
   "version": "3.10.2"
  },
  "orig_nbformat": 4
 },
 "nbformat": 4,
 "nbformat_minor": 2
}
